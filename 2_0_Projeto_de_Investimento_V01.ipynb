{
  "nbformat": 4,
  "nbformat_minor": 0,
  "metadata": {
    "colab": {
      "name": "2.0 - Projeto de Investimento V01",
      "provenance": [],
      "toc_visible": true,
      "include_colab_link": true
    },
    "kernelspec": {
      "name": "python3",
      "display_name": "Python 3"
    }
  },
  "cells": [
    {
      "cell_type": "markdown",
      "metadata": {
        "id": "view-in-github",
        "colab_type": "text"
      },
      "source": [
        "<a href=\"https://colab.research.google.com/github/ClaudioLucioLopes/PrescriptiveAnalysis/blob/master/2_0_Projeto_de_Investimento_V01.ipynb\" target=\"_parent\"><img src=\"https://colab.research.google.com/assets/colab-badge.svg\" alt=\"Open In Colab\"/></a>"
      ]
    },
    {
      "cell_type": "markdown",
      "metadata": {
        "id": "MHLu-6DMzNcy",
        "colab_type": "text"
      },
      "source": [
        "# Caso da Projeto de investimentos HostsM"
      ]
    },
    {
      "cell_type": "markdown",
      "metadata": {
        "id": "I6bNI1t0zViu",
        "colab_type": "text"
      },
      "source": [
        "# Instalação e módulos necessários"
      ]
    },
    {
      "cell_type": "code",
      "metadata": {
        "id": "V0g4ZmPEzZut",
        "colab_type": "code",
        "outputId": "2417a9b8-6222-4aa6-db82-54fe4fb9e5a9",
        "colab": {
          "base_uri": "https://localhost:8080/",
          "height": 90
        }
      },
      "source": [
        "!pip install ortools\n",
        "from ortools.linear_solver import pywraplp\n",
        "import numpy as np\n"
      ],
      "execution_count": 0,
      "outputs": [
        {
          "output_type": "stream",
          "text": [
            "Requirement already satisfied: ortools in /usr/local/lib/python3.6/dist-packages (7.4.7247)\n",
            "Requirement already satisfied: protobuf>=3.10.0 in /usr/local/lib/python3.6/dist-packages (from ortools) (3.10.0)\n",
            "Requirement already satisfied: six>=1.10 in /usr/local/lib/python3.6/dist-packages (from ortools) (1.12.0)\n",
            "Requirement already satisfied: setuptools in /usr/local/lib/python3.6/dist-packages (from protobuf>=3.10.0->ortools) (41.6.0)\n"
          ],
          "name": "stdout"
        }
      ]
    },
    {
      "cell_type": "markdown",
      "metadata": {
        "id": "qPBWg0iazdhW",
        "colab_type": "text"
      },
      "source": [
        "# Organizando os dados"
      ]
    },
    {
      "cell_type": "code",
      "metadata": {
        "id": "H36h3rew1x_M",
        "colab_type": "code",
        "colab": {}
      },
      "source": [
        "#Número de projetos\n",
        "num_projetos = 7\n",
        "\n",
        "#Valor total dos projetos por ano\n",
        "cronograma_desembolso = np.array([[12, 34, 12],\n",
        "                                  [54, 94, 67],\n",
        "                                  [65, 28, 49],\n",
        "                                  [38, 0, 8],\n",
        "                                  [52, 21, 42],\n",
        "                                  [98, 73, 25],\n",
        "                                  [15, 48, 53]])\n",
        "\n",
        "#VPL dos projetos \n",
        "VPL_Projeto = np.array([20, 15, 34, 17, 56, 76, 29])\n",
        "\n",
        "#Valor máximo de desembolso por ano\n",
        "Previsto_desembolso = np.array([200 ,250, 150])\n"
      ],
      "execution_count": 0,
      "outputs": []
    },
    {
      "cell_type": "markdown",
      "metadata": {
        "id": "uN6puZWr30wZ",
        "colab_type": "text"
      },
      "source": [
        "# Criando o modelo"
      ]
    },
    {
      "cell_type": "code",
      "metadata": {
        "id": "OupoxLb2392G",
        "colab_type": "code",
        "outputId": "e2392927-5a74-418d-d351-62b759d5d07b",
        "colab": {
          "base_uri": "https://localhost:8080/",
          "height": 35
        }
      },
      "source": [
        "# Criando o modelo de investimento\n",
        "modelo_projetos_inv = pywraplp.Solver('Investimentos HotsM',pywraplp.Solver.GLOP_LINEAR_PROGRAMMING)\n",
        "\n",
        "#Criando as variáveis de decisão\n",
        "projetos = {}\n",
        "for i in range(num_projetos):\n",
        "    projetos[i] = modelo_projetos_inv.NumVar(0, 1, 'projetos[%i]' % (i))\n",
        "print(projetos)\n",
        "\n",
        "#Criando a nossa função objetivo\n",
        "total_VPL =  modelo_projetos_inv.Sum([VPL_Projeto[i] * projetos[i]   for i in range(num_projetos)])    \n",
        "\n",
        "#Atribuindo a maximização\n",
        "objetivo = modelo_projetos_inv.Maximize(total_VPL)\n",
        "\n",
        "\n",
        "\n",
        "#Restrições para os cronogramas de desembolso e projetos\n",
        "\n",
        "#Restrição do montante para o Ano 1\n",
        "modelo_projetos_inv.Add(modelo_projetos_inv.Sum(cronograma_desembolso[i,0] *projetos[i]  for i in range(num_projetos)) <= Previsto_desembolso[0])\n",
        "\n",
        "#Restrição do montante para o Ano 2\n",
        "modelo_projetos_inv.Add(modelo_projetos_inv.Sum(cronograma_desembolso[i,1] *projetos[i]  for i in range(num_projetos)) <= Previsto_desembolso[1])\n",
        "\n",
        "#Restrição do montante para o Ano 3\n",
        "modelo_projetos_inv.Add(modelo_projetos_inv.Sum(cronograma_desembolso[i,2] *projetos[i]  for i in range(num_projetos)) <= Previsto_desembolso[2])\n",
        "\n",
        "#Já fizemos, mas só para deixar explicito aqui a restrição do percentual de partipação\n",
        "for i in range(num_projetos):\n",
        "    modelo_projetos_inv.Add(projetos[i] >= 0 )\n",
        "    modelo_projetos_inv.Add(projetos[i] <= 1 )\n",
        "\n"
      ],
      "execution_count": 0,
      "outputs": [
        {
          "output_type": "stream",
          "text": [
            "{0: projetos[0], 1: projetos[1], 2: projetos[2], 3: projetos[3], 4: projetos[4], 5: projetos[5], 6: projetos[6]}\n"
          ],
          "name": "stdout"
        }
      ]
    },
    {
      "cell_type": "markdown",
      "metadata": {
        "id": "OxizA37A_AIc",
        "colab_type": "text"
      },
      "source": [
        "# Executando o modelo"
      ]
    },
    {
      "cell_type": "code",
      "metadata": {
        "id": "M_mHSjiQ_Eoc",
        "colab_type": "code",
        "outputId": "c6d56c8e-9498-437b-e56b-9ffe39fa79bd",
        "colab": {
          "base_uri": "https://localhost:8080/",
          "height": 54
        }
      },
      "source": [
        "#Executando o modelo\n",
        "modelo_projetos_inv.EnableOutput = True\n",
        "modelo_projetos_inv.Solve()\n",
        "\n",
        "print('Tempo: ', modelo_projetos_inv.WallTime(), 'ms')\n",
        "print('Iterações: ', modelo_projetos_inv.iterations())"
      ],
      "execution_count": 0,
      "outputs": [
        {
          "output_type": "stream",
          "text": [
            "Tempo:  864782 ms\n",
            "Iterações:  0\n"
          ],
          "name": "stdout"
        }
      ]
    },
    {
      "cell_type": "markdown",
      "metadata": {
        "id": "-HgxR6gQ_KVl",
        "colab_type": "text"
      },
      "source": [
        "# Avaliando os resultados"
      ]
    },
    {
      "cell_type": "code",
      "metadata": {
        "id": "dA9v8LVj_LkZ",
        "colab_type": "code",
        "outputId": "7ad8c7dc-52af-4457-c485-d6def59e419c",
        "colab": {
          "base_uri": "https://localhost:8080/",
          "height": 164
        }
      },
      "source": [
        "print('Valor máximo do VPL a ser obtido: ', round(modelo_projetos_inv.Objective().Value(),2))\n",
        "\n",
        "for i in range(num_projetos):\n",
        "    print('Projeto %i:' % (i+1), round(projetos[i].SolutionValue() *100,2),'%')\n"
      ],
      "execution_count": 0,
      "outputs": [
        {
          "output_type": "stream",
          "text": [
            "Valor máximo do VPL a ser obtido:  193.03\n",
            "Projeto 1: 100.0 %\n",
            "Projeto 2: 0.0 %\n",
            "Projeto 3: 35.38 %\n",
            "Projeto 4: 0.0 %\n",
            "Projeto 5: 100.0 %\n",
            "Projeto 6: 100.0 %\n",
            "Projeto 7: 100.0 %\n"
          ],
          "name": "stdout"
        }
      ]
    }
  ]
}