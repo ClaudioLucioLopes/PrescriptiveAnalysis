{
  "nbformat": 4,
  "nbformat_minor": 0,
  "metadata": {
    "colab": {
      "name": "1.0 - Fábrica de Automoveis V02",
      "provenance": [],
      "collapsed_sections": [],
      "toc_visible": true,
      "include_colab_link": true
    },
    "kernelspec": {
      "name": "python3",
      "display_name": "Python 3"
    }
  },
  "cells": [
    {
      "cell_type": "markdown",
      "metadata": {
        "id": "view-in-github",
        "colab_type": "text"
      },
      "source": [
        "<a href=\"https://colab.research.google.com/github/ClaudioLucioLopes/PrescriptiveAnalysis/blob/master/1_0_F%C3%A1brica_de_Automoveis_V02.ipynb\" target=\"_parent\"><img src=\"https://colab.research.google.com/assets/colab-badge.svg\" alt=\"Open In Colab\"/></a>"
      ]
    },
    {
      "cell_type": "markdown",
      "metadata": {
        "id": "id2t18QwARTd",
        "colab_type": "text"
      },
      "source": [
        "# Caso da Fábrica de automóveis"
      ]
    },
    {
      "cell_type": "markdown",
      "metadata": {
        "id": "bD_OD6F3_-Ty",
        "colab_type": "text"
      },
      "source": [
        "# Instalação e módulos necessários\n"
      ]
    },
    {
      "cell_type": "code",
      "metadata": {
        "id": "DUzMSxyD-vmm",
        "colab_type": "code",
        "outputId": "7be1011c-3148-48a2-8a74-40d6fcb9771a",
        "colab": {
          "base_uri": "https://localhost:8080/",
          "height": 184
        }
      },
      "source": [
        "!pip install ortools\n",
        "from ortools.linear_solver import pywraplp\n",
        "\n"
      ],
      "execution_count": 0,
      "outputs": [
        {
          "output_type": "stream",
          "text": [
            "Collecting ortools\n",
            "\u001b[?25l  Downloading https://files.pythonhosted.org/packages/b2/c2/81a18b1ee4e9c8401fa2c9bc6fcd1b59b1c30ff7a1b214aff84d718d95c5/ortools-7.4.7247-cp36-cp36m-manylinux1_x86_64.whl (27.7MB)\n",
            "\u001b[K     |████████████████████████████████| 27.7MB 91kB/s \n",
            "\u001b[?25hRequirement already satisfied: six>=1.10 in /usr/local/lib/python3.6/dist-packages (from ortools) (1.12.0)\n",
            "Requirement already satisfied: protobuf>=3.10.0 in /usr/local/lib/python3.6/dist-packages (from ortools) (3.10.0)\n",
            "Requirement already satisfied: setuptools in /usr/local/lib/python3.6/dist-packages (from protobuf>=3.10.0->ortools) (41.6.0)\n",
            "Installing collected packages: ortools\n",
            "Successfully installed ortools-7.4.7247\n"
          ],
          "name": "stdout"
        }
      ]
    },
    {
      "cell_type": "markdown",
      "metadata": {
        "id": "DaWehdGZAqKx",
        "colab_type": "text"
      },
      "source": [
        "# Organizando os dados"
      ]
    },
    {
      "cell_type": "code",
      "metadata": {
        "id": "EmbQH0xzHYZi",
        "colab_type": "code",
        "colab": {}
      },
      "source": [
        "#Número de fábricas\n",
        "num_fabricas = 4\n",
        "\n",
        "#Total de carros a serem produzidos\n",
        "total_carros = 1000\n",
        "\n",
        "#Custo de produção por carro em cada fábrica\n",
        "Custo_unitario = [15 ,10, 9, 7 ]\n",
        "\n",
        "#Horas de mão de obra necessárias por carro em cada fábrica\n",
        "Horas_mao_obra = [2 ,3, 4, 5 ]\n",
        "\n",
        "#Materia prima necessária por carro em cada fábrica\n",
        "Materia_prima = [3 ,4, 5, 6 ]\n",
        "\n",
        "\n",
        "\n"
      ],
      "execution_count": 0,
      "outputs": []
    },
    {
      "cell_type": "markdown",
      "metadata": {
        "id": "2k-iAbYbAtq9",
        "colab_type": "text"
      },
      "source": [
        "# Criando o modelo"
      ]
    },
    {
      "cell_type": "code",
      "metadata": {
        "id": "R-6L4jM1O3o8",
        "colab_type": "code",
        "outputId": "8783ca8f-fa46-4b13-b6d6-a52737045d44",
        "colab": {
          "base_uri": "https://localhost:8080/",
          "height": 54
        }
      },
      "source": [
        "# Criando o nosso modelo\n",
        "modelo_fabrica = pywraplp.Solver('Fabrica de automoveis',pywraplp.Solver.CBC_MIXED_INTEGER_PROGRAMMING)\n",
        "\n",
        "#Criando as variáveis de decisão\n",
        "fabrica = {}\n",
        "for i in range(num_fabricas):\n",
        "    fabrica[i] = modelo_fabrica.IntVar(0, total_carros, 'fabrica[%i]' % (i))\n",
        "print(fabrica)\n",
        "\n",
        "#Criando a nossa função objetivo\n",
        "custo_producao =  modelo_fabrica.Sum([Custo_unitario[i] * fabrica[i]   for i in range(num_fabricas)])    \n",
        "\n",
        "#Atribuindo a maximização\n",
        "objetivo = modelo_fabrica.Minimize(custo_producao)\n",
        "\n",
        "#Restrições para o processo produtivo\n",
        "\n",
        "\n",
        "#Na Fabrica 3 temos que produzir pelo menos 250 carros \n",
        "modelo_fabrica.Add(fabrica[2] >=250)\n",
        "\n",
        "#Temos no total disponível 3200 horas de mão de obra como componente de custo \n",
        "modelo_fabrica.Add(modelo_fabrica.Sum([Horas_mao_obra[i] * fabrica[i]   for i in range(num_fabricas)])  <= 3200)\n",
        "\n",
        "#Temos no total disponível 4000 unidade de material \n",
        "modelo_fabrica.Add(modelo_fabrica.Sum([Materia_prima[i] * fabrica[i]   for i in range(num_fabricas)])  <= 4000)\n",
        "\n",
        "#Número máximo de carros a ser construído = 1000\n",
        "modelo_fabrica.Add(modelo_fabrica.Sum([ fabrica[i]   for i in range(num_fabricas)])  == 1000)\n",
        "\n",
        "\n"
      ],
      "execution_count": 0,
      "outputs": [
        {
          "output_type": "stream",
          "text": [
            "{0: fabrica[0], 1: fabrica[1], 2: fabrica[2], 3: fabrica[3]}\n"
          ],
          "name": "stdout"
        },
        {
          "output_type": "execute_result",
          "data": {
            "text/plain": [
              "<ortools.linear_solver.pywraplp.Constraint; proxy of <Swig Object of type 'operations_research::MPConstraint *' at 0x7f855bb8c4e0> >"
            ]
          },
          "metadata": {
            "tags": []
          },
          "execution_count": 14
        }
      ]
    },
    {
      "cell_type": "markdown",
      "metadata": {
        "id": "avT0W7e8Av88",
        "colab_type": "text"
      },
      "source": [
        "# Executando o modelo"
      ]
    },
    {
      "cell_type": "code",
      "metadata": {
        "id": "kgyDuSMfTecr",
        "colab_type": "code",
        "outputId": "46972371-75e4-4d8e-d927-364b29f60ad2",
        "colab": {
          "base_uri": "https://localhost:8080/",
          "height": 72
        }
      },
      "source": [
        "#Executando o modelo\n",
        "status = modelo_fabrica.Solve()\n",
        "print(\"Ótimo: \",status == modelo_fabrica.OPTIMAL)\n",
        "print(\"Inviável: \",status == modelo_fabrica.INFEASIBLE)\n",
        "print(\"Viável:\",status == modelo_fabrica.FEASIBLE)\n"
      ],
      "execution_count": 0,
      "outputs": [
        {
          "output_type": "stream",
          "text": [
            "Ótimo:  True\n",
            "Inviável:  False\n",
            "Viável: False\n"
          ],
          "name": "stdout"
        }
      ]
    },
    {
      "cell_type": "markdown",
      "metadata": {
        "id": "Tr7-DKsoAyH0",
        "colab_type": "text"
      },
      "source": [
        "# Avaliando os resultados"
      ]
    },
    {
      "cell_type": "code",
      "metadata": {
        "id": "T6UhxFd8YUnz",
        "colab_type": "code",
        "outputId": "85690e81-7d47-40ed-9dee-ab2260ef6945",
        "colab": {
          "base_uri": "https://localhost:8080/",
          "height": 109
        }
      },
      "source": [
        "print('Custo mínimo para os 1000 carros serem fabricadas: ', int(modelo_fabrica.Objective().Value()))\n",
        "\n",
        "for i in range(num_fabricas):\n",
        "    print('fabrica[%i]' % (i), int(fabrica[i].SolutionValue()))\n"
      ],
      "execution_count": 0,
      "outputs": [
        {
          "output_type": "stream",
          "text": [
            "Custo mínimo para os 1000 carros serem fabricadas:  11000\n",
            "fabrica[0] 250\n",
            "fabrica[1] 500\n",
            "fabrica[2] 250\n",
            "fabrica[3] 0\n"
          ],
          "name": "stdout"
        }
      ]
    }
  ]
}