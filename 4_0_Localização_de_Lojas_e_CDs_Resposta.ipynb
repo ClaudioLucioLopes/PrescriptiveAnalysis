{
  "nbformat": 4,
  "nbformat_minor": 0,
  "metadata": {
    "colab": {
      "name": "4.0 - Localização de Lojas e CDs - Resposta",
      "provenance": [],
      "toc_visible": true,
      "authorship_tag": "ABX9TyNEk0PJIwRC2Rl2XtJhQn24",
      "include_colab_link": true
    },
    "kernelspec": {
      "name": "python3",
      "display_name": "Python 3"
    }
  },
  "cells": [
    {
      "cell_type": "markdown",
      "metadata": {
        "id": "view-in-github",
        "colab_type": "text"
      },
      "source": [
        "<a href=\"https://colab.research.google.com/github/ClaudioLucioLopes/PrescriptiveAnalysis/blob/master/4_0_Localiza%C3%A7%C3%A3o_de_Lojas_e_CDs_Resposta.ipynb\" target=\"_parent\"><img src=\"https://colab.research.google.com/assets/colab-badge.svg\" alt=\"Open In Colab\"/></a>"
      ]
    },
    {
      "cell_type": "markdown",
      "metadata": {
        "id": "OPitdJrB71cQ"
      },
      "source": [
        "# Instalação e módulos necessários"
      ]
    },
    {
      "cell_type": "code",
      "metadata": {
        "colab": {
          "base_uri": "https://localhost:8080/"
        },
        "id": "xlqgg4O573V3",
        "outputId": "24e74a77-dfeb-4df9-8f70-c39f35f699a8"
      },
      "source": [
        "!pip install ortools\n",
        "from ortools.linear_solver import pywraplp\n",
        "import numpy as np\n",
        "from itertools import product\n",
        "from math import sqrt"
      ],
      "execution_count": 41,
      "outputs": [
        {
          "output_type": "stream",
          "text": [
            "Requirement already satisfied: ortools in /usr/local/lib/python3.6/dist-packages (8.1.8487)\n",
            "Requirement already satisfied: absl-py>=0.11 in /usr/local/lib/python3.6/dist-packages (from ortools) (0.11.0)\n",
            "Requirement already satisfied: protobuf>=3.14.0 in /usr/local/lib/python3.6/dist-packages (from ortools) (3.14.0)\n",
            "Requirement already satisfied: six in /usr/local/lib/python3.6/dist-packages (from absl-py>=0.11->ortools) (1.15.0)\n"
          ],
          "name": "stdout"
        }
      ]
    },
    {
      "cell_type": "markdown",
      "metadata": {
        "id": "_glZbeLSXo5c"
      },
      "source": [
        "#Organizando os dados"
      ]
    },
    {
      "cell_type": "code",
      "metadata": {
        "colab": {
          "base_uri": "https://localhost:8080/",
          "height": 265
        },
        "id": "dh6CwqD2Xs9j",
        "outputId": "5a54e234-8cbc-4e8d-915e-1adb5fecf0a6"
      },
      "source": [
        "\n",
        "# Parametros\n",
        "#localização de clientes\n",
        "\n",
        "#Latitude e longitude das lojas\n",
        "Lojas = [(0,1.5), (2.5,1.2),(2.5,0.25)]\n",
        "\n",
        "#Latitude e longitude dos terrenos para construção dos Centros de Distribuição\n",
        "CD = [(0,0), (0,1), (0,2), (1,0), (1,1), (1,2), (2,0), (2,1), (2,2)]\n",
        "\n",
        "#Valor em milhoes de reais\n",
        "custo_galpao = [3,2,3,1.5,3,3,4,3,2]\n",
        "custo_por_km = 1.1\n",
        "\n",
        "\n",
        "# Vamos aplicar aqui uma a distância euclidiana, mas poderiamos pensar em outras distâncias(Manhattan,por exemplo)\n",
        "def calcula_distancia(loc1, loc2):\n",
        "    dx = loc1[0] - loc2[0]\n",
        "    dy = loc1[1] - loc2[1]\n",
        "    return sqrt(dx**2 + dy**2)\n",
        "\n",
        "# Parametros iniciais: Número de lojas, Número de CD e possibilidades de atendimento lojas e CD\n",
        "num_CD = len(CD)\n",
        "num_Lojas = len(Lojas)\n",
        "todas_possibilidades = list(product(range(num_Lojas), range(num_CD)))\n",
        "\n",
        "# Calculando os custos de trajetos\n",
        "\n",
        "custo_trajeto = {(c,l): custo_por_km*calcula_distancia(Lojas[c], CD[l]) for c, l in todas_possibilidades}\n",
        "\n",
        "\n",
        "import matplotlib.pyplot as plt\n",
        "x,y = zip(*Lojas)\n",
        "plt.scatter(x, y,c='red',label='Lojas')\n",
        "x,y = zip(*CD)\n",
        "plt.scatter(x, y,c='blue',label='CD')\n",
        "plt.legend()\n",
        "plt.show()\n",
        "\n"
      ],
      "execution_count": 42,
      "outputs": [
        {
          "output_type": "display_data",
          "data": {
            "image/png": "[encoded data removed]",
            "text/plain": [
              "<Figure size 432x288 with 1 Axes>"
            ]
          },
          "metadata": {
            "tags": [],
            "needs_background": "light"
          }
        }
      ]
    },
    {
      "cell_type": "code",
      "metadata": {
        "id": "EOirL6G8tUQd"
      },
      "source": [
        "# Criando modelo para seleção de locais\n",
        "modelo_localizacao = pywraplp.Solver('Modelo ',pywraplp.Solver.CBC_MIXED_INTEGER_PROGRAMMING)\n",
        "\n",
        "#Criando as variáveis de decisão\n",
        "selecao_CD = {}\n",
        "percentual_cobertura = {}\n",
        "\n",
        "#Variavel que indica que um CD será selecionado ou não\n",
        "for c in range(num_CD):\n",
        "  selecao_CD[c] = modelo_localizacao.BoolVar(name='selecaoCD[%i]' % (c))\n",
        "\n",
        "\n",
        "#Percentual da demanda da loja que será atendida pelo CD(se ele for construído) \n",
        "for l in range(num_Lojas):\n",
        "  for c in range(num_CD):\n",
        "      percentual_cobertura[l,c] = modelo_localizacao.NumVar(0,1,name='percentual_cobertura[%i,%i]' % (l,c))\n",
        "\n",
        "\n",
        "#Restrições \n",
        "#Caso o CD seja selecionado teremos o percentual de cobertura que será coberto em cada loja\n",
        "for l,c in todas_possibilidades:\n",
        "  modelo_localizacao.Add(percentual_cobertura[l,c] <= selecao_CD[c])\n",
        "\n",
        "#Devemos garantir que todas as lojas sem atendidas em 100% para pelos CD's\n",
        "for l in range(num_Lojas):\n",
        " modelo_localizacao.Add(modelo_localizacao.Sum(percentual_cobertura[l,c] for c in range(num_CD)) == 1 )\n",
        "\n",
        "# E quisessemos estipular um número mínimo de CD's para ser construído\n",
        "modelo_localizacao.Add(modelo_localizacao.Sum(selecao_CD[c] for c in range(num_CD)) <= 3 )\n",
        "\n",
        "\n",
        "#Criando a nossa função objetivo\n",
        "Custo_Fixo_Ini =  modelo_localizacao.Sum([selecao_CD[c] * custo_galpao[c] for c in range(num_CD) ])    \n",
        "Custo_Var =  modelo_localizacao.Sum([percentual_cobertura[l,c] * custo_trajeto[l,c] for c in range(num_CD) for l in range(num_Lojas)])    \n",
        "\n",
        "#Atribuindo a maximização\n",
        "objetivo = modelo_localizacao.Minimize(Custo_Fixo_Ini + Custo_Var)"
      ],
      "execution_count": 43,
      "outputs": []
    },
    {
      "cell_type": "markdown",
      "metadata": {
        "id": "BBeOjn0ZhCVt"
      },
      "source": [
        "#Executando o modelo"
      ]
    },
    {
      "cell_type": "code",
      "metadata": {
        "colab": {
          "base_uri": "https://localhost:8080/"
        },
        "id": "t9w42cnthE8G",
        "outputId": "970edb9c-e0c4-4138-b172-f899e0978705"
      },
      "source": [
        "#Executando o modelo\n",
        "modelo_localizacao.Solve()\n",
        "\n",
        "print('Tempo: ', modelo_localizacao.WallTime(), 'ms')\n",
        "print('Iterações: ', modelo_localizacao.iterations())\n",
        "\n",
        "print(selecao_CD)"
      ],
      "execution_count": 44,
      "outputs": [
        {
          "output_type": "stream",
          "text": [
            "Tempo:  4333 ms\n",
            "Iterações:  0\n",
            "{0: selecaoCD[0], 1: selecaoCD[1], 2: selecaoCD[2], 3: selecaoCD[3], 4: selecaoCD[4], 5: selecaoCD[5], 6: selecaoCD[6], 7: selecaoCD[7], 8: selecaoCD[8]}\n"
          ],
          "name": "stdout"
        }
      ]
    },
    {
      "cell_type": "markdown",
      "metadata": {
        "id": "KyOX0T8tcqd0"
      },
      "source": [
        "#Avaliando os resultados\n"
      ]
    },
    {
      "cell_type": "code",
      "metadata": {
        "colab": {
          "base_uri": "https://localhost:8080/"
        },
        "id": "ou6dbRvThXMx",
        "outputId": "511668df-1a9c-445c-aff9-37cdd4c205ee"
      },
      "source": [
        "print(modelo_localizacao.ExportModelAsLpFormat(False))"
      ],
      "execution_count": 45,
      "outputs": [
        {
          "output_type": "stream",
          "text": [
            "\\ Generated by MPModelProtoExporter\n",
            "\\   Name             : Modelo \n",
            "\\   Format           : Free\n",
            "\\   Constraints      : 31\n",
            "\\   Variables        : 36\n",
            "\\     Binary         : 9\n",
            "\\     Integer        : 0\n",
            "\\     Continuous     : 27\n",
            "Minimize\n",
            " Obj: +3 selecaoCD[0] +2 selecaoCD[1] +3 selecaoCD[2] +1.5 selecaoCD[3] +3 selecaoCD[4] +3 selecaoCD[5] +4 selecaoCD[6] +3 selecaoCD[7] +2 selecaoCD[8] +1.65 percentual_cobertura[0,0] +0.55 percentual_cobertura[0,1] +0.55 percentual_cobertura[0,2] +1.98305 percentual_cobertura[0,3] +1.22984 percentual_cobertura[0,4] +1.22984 percentual_cobertura[0,5] +2.75 percentual_cobertura[0,6] +2.26771 percentual_cobertura[0,7] +2.26771 percentual_cobertura[0,8] +3.05039 percentual_cobertura[1,0] +2.75879 percentual_cobertura[1,1] +2.88737 percentual_cobertura[1,2] +2.11303 percentual_cobertura[1,3] +1.6646 percentual_cobertura[1,4] +1.87 percentual_cobertura[1,5] +1.43 percentual_cobertura[1,6] +0.592368 percentual_cobertura[1,7] +1.03774 percentual_cobertura[1,8] +2.76372 percentual_cobertura[2,0] +2.87108 percentual_cobertura[2,1] +3.3568 percentual_cobertura[2,2] +1.67276 percentual_cobertura[2,3] +1.84476 percentual_cobertura[2,4] +2.53537 percentual_cobertura[2,5] +0.614919 percentual_cobertura[2,6] +0.991527 percentual_cobertura[2,7] +2.00203 percentual_cobertura[2,8] \n",
            "Subject to\n",
            " auto_c_000000000: -1 selecaoCD[0] +1 percentual_cobertura[0,0]  <= 0\n",
            " auto_c_000000001: -1 selecaoCD[1] +1 percentual_cobertura[0,1]  <= 0\n",
            " auto_c_000000002: -1 selecaoCD[2] +1 percentual_cobertura[0,2]  <= 0\n",
            " auto_c_000000003: -1 selecaoCD[3] +1 percentual_cobertura[0,3]  <= 0\n",
            " auto_c_000000004: -1 selecaoCD[4] +1 percentual_cobertura[0,4]  <= 0\n",
            " auto_c_000000005: -1 selecaoCD[5] +1 percentual_cobertura[0,5]  <= 0\n",
            " auto_c_000000006: -1 selecaoCD[6] +1 percentual_cobertura[0,6]  <= 0\n",
            " auto_c_000000007: -1 selecaoCD[7] +1 percentual_cobertura[0,7]  <= 0\n",
            " auto_c_000000008: -1 selecaoCD[8] +1 percentual_cobertura[0,8]  <= 0\n",
            " auto_c_000000009: -1 selecaoCD[0] +1 percentual_cobertura[1,0]  <= 0\n",
            " auto_c_000000010: -1 selecaoCD[1] +1 percentual_cobertura[1,1]  <= 0\n",
            " auto_c_000000011: -1 selecaoCD[2] +1 percentual_cobertura[1,2]  <= 0\n",
            " auto_c_000000012: -1 selecaoCD[3] +1 percentual_cobertura[1,3]  <= 0\n",
            " auto_c_000000013: -1 selecaoCD[4] +1 percentual_cobertura[1,4]  <= 0\n",
            " auto_c_000000014: -1 selecaoCD[5] +1 percentual_cobertura[1,5]  <= 0\n",
            " auto_c_000000015: -1 selecaoCD[6] +1 percentual_cobertura[1,6]  <= 0\n",
            " auto_c_000000016: -1 selecaoCD[7] +1 percentual_cobertura[1,7]  <= 0\n",
            " auto_c_000000017: -1 selecaoCD[8] +1 percentual_cobertura[1,8]  <= 0\n",
            " auto_c_000000018: -1 selecaoCD[0] +1 percentual_cobertura[2,0]  <= 0\n",
            " auto_c_000000019: -1 selecaoCD[1] +1 percentual_cobertura[2,1]  <= 0\n",
            " auto_c_000000020: -1 selecaoCD[2] +1 percentual_cobertura[2,2]  <= 0\n",
            " auto_c_000000021: -1 selecaoCD[3] +1 percentual_cobertura[2,3]  <= 0\n",
            " auto_c_000000022: -1 selecaoCD[4] +1 percentual_cobertura[2,4]  <= 0\n",
            " auto_c_000000023: -1 selecaoCD[5] +1 percentual_cobertura[2,5]  <= 0\n",
            " auto_c_000000024: -1 selecaoCD[6] +1 percentual_cobertura[2,6]  <= 0\n",
            " auto_c_000000025: -1 selecaoCD[7] +1 percentual_cobertura[2,7]  <= 0\n",
            " auto_c_000000026: -1 selecaoCD[8] +1 percentual_cobertura[2,8]  <= 0\n",
            " auto_c_000000027: +1 percentual_cobertura[0,0] +1 percentual_cobertura[0,1] +1 percentual_cobertura[0,2] +1 percentual_cobertura[0,3] +1 percentual_cobertura[0,4] +1 percentual_cobertura[0,5] +1 percentual_cobertura[0,6] +1 percentual_cobertura[0,7] +1 percentual_cobertura[0,8]  = 1\n",
            " auto_c_000000028: +1 percentual_cobertura[1,0] +1 percentual_cobertura[1,1] +1 percentual_cobertura[1,2] +1 percentual_cobertura[1,3] +1 percentual_cobertura[1,4] +1 percentual_cobertura[1,5] +1 percentual_cobertura[1,6] +1 percentual_cobertura[1,7] +1 percentual_cobertura[1,8]  = 1\n",
            " auto_c_000000029: +1 percentual_cobertura[2,0] +1 percentual_cobertura[2,1] +1 percentual_cobertura[2,2] +1 percentual_cobertura[2,3] +1 percentual_cobertura[2,4] +1 percentual_cobertura[2,5] +1 percentual_cobertura[2,6] +1 percentual_cobertura[2,7] +1 percentual_cobertura[2,8]  = 1\n",
            " auto_c_000000030: +1 selecaoCD[0] +1 selecaoCD[1] +1 selecaoCD[2] +1 selecaoCD[3] +1 selecaoCD[4] +1 selecaoCD[5] +1 selecaoCD[6] +1 selecaoCD[7] +1 selecaoCD[8]  <= 3\n",
            "Bounds\n",
            " 0 <= selecaoCD[0] <= 1\n",
            " 0 <= selecaoCD[1] <= 1\n",
            " 0 <= selecaoCD[2] <= 1\n",
            " 0 <= selecaoCD[3] <= 1\n",
            " 0 <= selecaoCD[4] <= 1\n",
            " 0 <= selecaoCD[5] <= 1\n",
            " 0 <= selecaoCD[6] <= 1\n",
            " 0 <= selecaoCD[7] <= 1\n",
            " 0 <= selecaoCD[8] <= 1\n",
            " 0 <= percentual_cobertura[0,0] <= 1\n",
            " 0 <= percentual_cobertura[0,1] <= 1\n",
            " 0 <= percentual_cobertura[0,2] <= 1\n",
            " 0 <= percentual_cobertura[0,3] <= 1\n",
            " 0 <= percentual_cobertura[0,4] <= 1\n",
            " 0 <= percentual_cobertura[0,5] <= 1\n",
            " 0 <= percentual_cobertura[0,6] <= 1\n",
            " 0 <= percentual_cobertura[0,7] <= 1\n",
            " 0 <= percentual_cobertura[0,8] <= 1\n",
            " 0 <= percentual_cobertura[1,0] <= 1\n",
            " 0 <= percentual_cobertura[1,1] <= 1\n",
            " 0 <= percentual_cobertura[1,2] <= 1\n",
            " 0 <= percentual_cobertura[1,3] <= 1\n",
            " 0 <= percentual_cobertura[1,4] <= 1\n",
            " 0 <= percentual_cobertura[1,5] <= 1\n",
            " 0 <= percentual_cobertura[1,6] <= 1\n",
            " 0 <= percentual_cobertura[1,7] <= 1\n",
            " 0 <= percentual_cobertura[1,8] <= 1\n",
            " 0 <= percentual_cobertura[2,0] <= 1\n",
            " 0 <= percentual_cobertura[2,1] <= 1\n",
            " 0 <= percentual_cobertura[2,2] <= 1\n",
            " 0 <= percentual_cobertura[2,3] <= 1\n",
            " 0 <= percentual_cobertura[2,4] <= 1\n",
            " 0 <= percentual_cobertura[2,5] <= 1\n",
            " 0 <= percentual_cobertura[2,6] <= 1\n",
            " 0 <= percentual_cobertura[2,7] <= 1\n",
            " 0 <= percentual_cobertura[2,8] <= 1\n",
            "Binaries\n",
            " selecaoCD[0]\n",
            " selecaoCD[1]\n",
            " selecaoCD[2]\n",
            " selecaoCD[3]\n",
            " selecaoCD[4]\n",
            " selecaoCD[5]\n",
            " selecaoCD[6]\n",
            " selecaoCD[7]\n",
            " selecaoCD[8]\n",
            "End\n",
            "\n"
          ],
          "name": "stdout"
        }
      ]
    },
    {
      "cell_type": "code",
      "metadata": {
        "colab": {
          "base_uri": "https://localhost:8080/"
        },
        "id": "csov1I4qT_5B",
        "outputId": "019f3676-564d-481d-8463-5cd1a38ec1e6"
      },
      "source": [
        "print('Total: ', round(modelo_localizacao.Objective().Value(),2))\n",
        "\n",
        "for c in range(num_CD):\n",
        "    if (selecao_CD[c].solution_value() > 0):\n",
        "        print(f\"\\n Construir o CD de posição {c+1 }.\",CD[c])\n",
        "\n",
        "\n",
        "# Avaliando os percentuais de cobertura.\n",
        "for l in range(num_Lojas):\n",
        "  for c in range(num_CD):\n",
        "    if percentual_cobertura[l,c].solution_value() > 0:\n",
        "        print(f\"\\n Loja {l + 1} receives {round(100*percentual_cobertura[l,c].solution_value(), 2)} % vindo do CD {c + 1} .\")"
      ],
      "execution_count": 46,
      "outputs": [
        {
          "output_type": "stream",
          "text": [
            "Total:  6.85\n",
            "\n",
            " Construir o CD de posição 8. (2, 1)\n",
            "\n",
            " Loja 1 receives 100.0 % vindo do CD 8 .\n",
            "\n",
            " Loja 2 receives 100.0 % vindo do CD 8 .\n",
            "\n",
            " Loja 3 receives 100.0 % vindo do CD 8 .\n"
          ],
          "name": "stdout"
        }
      ]
    }
  ]
}