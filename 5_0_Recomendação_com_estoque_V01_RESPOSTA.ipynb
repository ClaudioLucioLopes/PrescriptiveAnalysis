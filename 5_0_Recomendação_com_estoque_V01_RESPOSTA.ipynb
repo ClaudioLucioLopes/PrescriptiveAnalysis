{
  "nbformat": 4,
  "nbformat_minor": 0,
  "metadata": {
    "colab": {
      "name": "5.0 - Recomendação com estoque V01 - RESPOSTA",
      "provenance": [],
      "toc_visible": true,
      "include_colab_link": true
    },
    "kernelspec": {
      "name": "python3",
      "display_name": "Python 3"
    }
  },
  "cells": [
    {
      "cell_type": "markdown",
      "metadata": {
        "id": "view-in-github",
        "colab_type": "text"
      },
      "source": [
        "<a href=\"https://colab.research.google.com/github/ClaudioLucioLopes/PrescriptiveAnalysis/blob/master/5_0_Recomenda%C3%A7%C3%A3o_com_estoque_V01_RESPOSTA.ipynb\" target=\"_parent\"><img src=\"https://colab.research.google.com/assets/colab-badge.svg\" alt=\"Open In Colab\"/></a>"
      ]
    },
    {
      "cell_type": "markdown",
      "metadata": {
        "id": "MHLu-6DMzNcy",
        "colab_type": "text"
      },
      "source": [
        "# Algoritmo de Recomendação com limitação do estoque "
      ]
    },
    {
      "cell_type": "markdown",
      "metadata": {
        "id": "I6bNI1t0zViu",
        "colab_type": "text"
      },
      "source": [
        "# Instalação e módulos necessários"
      ]
    },
    {
      "cell_type": "code",
      "metadata": {
        "id": "V0g4ZmPEzZut",
        "colab_type": "code",
        "outputId": "8446c36b-5d7b-4a90-cee5-9bfe3f9aa413",
        "colab": {
          "base_uri": "https://localhost:8080/",
          "height": 90
        }
      },
      "source": [
        "!pip install ortools\n",
        "from ortools.linear_solver import pywraplp\n",
        "import numpy as np\n"
      ],
      "execution_count": 0,
      "outputs": [
        {
          "output_type": "stream",
          "text": [
            "Requirement already satisfied: ortools in /usr/local/lib/python3.6/dist-packages (7.4.7247)\n",
            "Requirement already satisfied: six>=1.10 in /usr/local/lib/python3.6/dist-packages (from ortools) (1.12.0)\n",
            "Requirement already satisfied: protobuf>=3.10.0 in /usr/local/lib/python3.6/dist-packages (from ortools) (3.10.0)\n",
            "Requirement already satisfied: setuptools in /usr/local/lib/python3.6/dist-packages (from protobuf>=3.10.0->ortools) (41.6.0)\n"
          ],
          "name": "stdout"
        }
      ]
    },
    {
      "cell_type": "markdown",
      "metadata": {
        "id": "qPBWg0iazdhW",
        "colab_type": "text"
      },
      "source": [
        "# Organizando os dados"
      ]
    },
    {
      "cell_type": "code",
      "metadata": {
        "id": "H36h3rew1x_M",
        "colab_type": "code",
        "colab": {}
      },
      "source": [
        "#Matriz dos escore de clientes \n",
        "todos_escores = np.array([ [13,5,10,7,11,1,12,5],\n",
        "                                   [8,7,1,11,11,0,0,1],\n",
        "                                   [4,6,9,8,11,6,7,11],\n",
        "                                   [13,5,11,1,7,10,11,5],\n",
        "                                   [11,9,5,1,6,3,1,3],\n",
        "                                   [9,11,8,14,7,5,6,1],\n",
        "                                   [9,2,5,4,9,0,10,1],\n",
        "                                   [14,2,13,3,10,6,11,10],\n",
        "                                   [6,0,14,5,11,5,1,0],\n",
        "                                   [10,5,0,14,5,9,6,10],       \n",
        "                                   [12,6,11,7,0,13,3,5],\n",
        "                                   [12,7,4,4,13,10,12,14],\n",
        "                                   [9,5,7,1,8,5,9,13],\n",
        "                                   [11,9,5,6,2,1,1,2],\n",
        "                                   [10,1,0,3,13,12,14,7],\n",
        "                                   [3,4,4,0,5,8,1,11],\n",
        "                                   [0,12,2,14,10,14,7,5],\n",
        "                                   [10,12,14,4,4,1,9,11],     \n",
        "                                   [2,6,1,10,11,8,4,4],\n",
        "                                   [11,10,10,6,4,6,5,3]])\n",
        "\n",
        "\n",
        "#Número de clientes e produtos no instante t\n",
        "numero_clientes = todos_escores.shape[0]\n",
        "numero_produtos = todos_escores.shape[1]\n",
        "\n",
        "#Limites do estoque por produto\n",
        "Limites_estoque = np.array([2, 1, 3, 0, 10, 4, 2, 4])\n",
        "#Para simplificar, considere que temos estoque para fazer recomendações para todos os clientes\n",
        "\n"
      ],
      "execution_count": 0,
      "outputs": []
    },
    {
      "cell_type": "markdown",
      "metadata": {
        "id": "uN6puZWr30wZ",
        "colab_type": "text"
      },
      "source": [
        "# Criando o modelo"
      ]
    },
    {
      "cell_type": "code",
      "metadata": {
        "id": "OupoxLb2392G",
        "colab_type": "code",
        "outputId": "05747440-80a5-43de-eb1e-b09db95e90a6",
        "colab": {
          "base_uri": "https://localhost:8080/",
          "height": 74
        }
      },
      "source": [
        "# Criando o modelo de investimento\n",
        "modelo_recomendacao_estoque = pywraplp.Solver('Modelo para maximizar a recomendação no estoque',pywraplp.Solver.CBC_MIXED_INTEGER_PROGRAMMING)\n",
        "\n",
        "#Criando as variáveis de decisão\n",
        "recomendacao = {}\n",
        "for i in range(numero_clientes):\n",
        "    for j in range(numero_produtos):\n",
        "        recomendacao[i,j] = modelo_recomendacao_estoque.BoolVar( 'recomendacao[%i,%i]' % (i,j))\n",
        "print(recomendacao)\n",
        "\n",
        "#Criando a nossa função objetivo\n",
        "max_tot_score = modelo_recomendacao_estoque.Sum([todos_escores[i,j] * recomendacao[i,j]   for i in range(numero_clientes)  for j in range(numero_produtos)])    \n",
        "\n",
        "#Atribuindo a maximização\n",
        "objetivo = modelo_recomendacao_estoque.Maximize(max_tot_score)\n",
        "\n",
        "#Restrição para que todo cliente tenham pelo menos uma recomendação de produto\n",
        "for i in range(numero_clientes):\n",
        "    modelo_recomendacao_estoque.Add(modelo_recomendacao_estoque.Sum([recomendacao[i,j] for j in range(numero_produtos)]) == 1)\n",
        "\n",
        "#Restrição do estoque do produto para o número de recomendações\n",
        "for j in range(numero_produtos):\n",
        "    modelo_recomendacao_estoque.Add(modelo_recomendacao_estoque.Sum([recomendacao[i,j] for i in range(numero_clientes)]) <= Limites_estoque[j])\n",
        "\n",
        "\n",
        "modelo_recomendacao_estoque.Add(modelo_recomendacao_estoque.Sum([recomendacao[i,j] for i in range(numero_clientes) for j in range(numero_produtos)]) == numero_clientes)\n"
      ],
      "execution_count": 0,
      "outputs": [
        {
          "output_type": "stream",
          "text": [
            "{(0, 0): recomendacao[0,0], (0, 1): recomendacao[0,1], (0, 2): recomendacao[0,2], (0, 3): recomendacao[0,3], (0, 4): recomendacao[0,4], (0, 5): recomendacao[0,5], (0, 6): recomendacao[0,6], (0, 7): recomendacao[0,7], (1, 0): recomendacao[1,0], (1, 1): recomendacao[1,1], (1, 2): recomendacao[1,2], (1, 3): recomendacao[1,3], (1, 4): recomendacao[1,4], (1, 5): recomendacao[1,5], (1, 6): recomendacao[1,6], (1, 7): recomendacao[1,7], (2, 0): recomendacao[2,0], (2, 1): recomendacao[2,1], (2, 2): recomendacao[2,2], (2, 3): recomendacao[2,3], (2, 4): recomendacao[2,4], (2, 5): recomendacao[2,5], (2, 6): recomendacao[2,6], (2, 7): recomendacao[2,7], (3, 0): recomendacao[3,0], (3, 1): recomendacao[3,1], (3, 2): recomendacao[3,2], (3, 3): recomendacao[3,3], (3, 4): recomendacao[3,4], (3, 5): recomendacao[3,5], (3, 6): recomendacao[3,6], (3, 7): recomendacao[3,7], (4, 0): recomendacao[4,0], (4, 1): recomendacao[4,1], (4, 2): recomendacao[4,2], (4, 3): recomendacao[4,3], (4, 4): recomendacao[4,4], (4, 5): recomendacao[4,5], (4, 6): recomendacao[4,6], (4, 7): recomendacao[4,7], (5, 0): recomendacao[5,0], (5, 1): recomendacao[5,1], (5, 2): recomendacao[5,2], (5, 3): recomendacao[5,3], (5, 4): recomendacao[5,4], (5, 5): recomendacao[5,5], (5, 6): recomendacao[5,6], (5, 7): recomendacao[5,7], (6, 0): recomendacao[6,0], (6, 1): recomendacao[6,1], (6, 2): recomendacao[6,2], (6, 3): recomendacao[6,3], (6, 4): recomendacao[6,4], (6, 5): recomendacao[6,5], (6, 6): recomendacao[6,6], (6, 7): recomendacao[6,7], (7, 0): recomendacao[7,0], (7, 1): recomendacao[7,1], (7, 2): recomendacao[7,2], (7, 3): recomendacao[7,3], (7, 4): recomendacao[7,4], (7, 5): recomendacao[7,5], (7, 6): recomendacao[7,6], (7, 7): recomendacao[7,7], (8, 0): recomendacao[8,0], (8, 1): recomendacao[8,1], (8, 2): recomendacao[8,2], (8, 3): recomendacao[8,3], (8, 4): recomendacao[8,4], (8, 5): recomendacao[8,5], (8, 6): recomendacao[8,6], (8, 7): recomendacao[8,7], (9, 0): recomendacao[9,0], (9, 1): recomendacao[9,1], (9, 2): recomendacao[9,2], (9, 3): recomendacao[9,3], (9, 4): recomendacao[9,4], (9, 5): recomendacao[9,5], (9, 6): recomendacao[9,6], (9, 7): recomendacao[9,7], (10, 0): recomendacao[10,0], (10, 1): recomendacao[10,1], (10, 2): recomendacao[10,2], (10, 3): recomendacao[10,3], (10, 4): recomendacao[10,4], (10, 5): recomendacao[10,5], (10, 6): recomendacao[10,6], (10, 7): recomendacao[10,7], (11, 0): recomendacao[11,0], (11, 1): recomendacao[11,1], (11, 2): recomendacao[11,2], (11, 3): recomendacao[11,3], (11, 4): recomendacao[11,4], (11, 5): recomendacao[11,5], (11, 6): recomendacao[11,6], (11, 7): recomendacao[11,7], (12, 0): recomendacao[12,0], (12, 1): recomendacao[12,1], (12, 2): recomendacao[12,2], (12, 3): recomendacao[12,3], (12, 4): recomendacao[12,4], (12, 5): recomendacao[12,5], (12, 6): recomendacao[12,6], (12, 7): recomendacao[12,7], (13, 0): recomendacao[13,0], (13, 1): recomendacao[13,1], (13, 2): recomendacao[13,2], (13, 3): recomendacao[13,3], (13, 4): recomendacao[13,4], (13, 5): recomendacao[13,5], (13, 6): recomendacao[13,6], (13, 7): recomendacao[13,7], (14, 0): recomendacao[14,0], (14, 1): recomendacao[14,1], (14, 2): recomendacao[14,2], (14, 3): recomendacao[14,3], (14, 4): recomendacao[14,4], (14, 5): recomendacao[14,5], (14, 6): recomendacao[14,6], (14, 7): recomendacao[14,7], (15, 0): recomendacao[15,0], (15, 1): recomendacao[15,1], (15, 2): recomendacao[15,2], (15, 3): recomendacao[15,3], (15, 4): recomendacao[15,4], (15, 5): recomendacao[15,5], (15, 6): recomendacao[15,6], (15, 7): recomendacao[15,7], (16, 0): recomendacao[16,0], (16, 1): recomendacao[16,1], (16, 2): recomendacao[16,2], (16, 3): recomendacao[16,3], (16, 4): recomendacao[16,4], (16, 5): recomendacao[16,5], (16, 6): recomendacao[16,6], (16, 7): recomendacao[16,7], (17, 0): recomendacao[17,0], (17, 1): recomendacao[17,1], (17, 2): recomendacao[17,2], (17, 3): recomendacao[17,3], (17, 4): recomendacao[17,4], (17, 5): recomendacao[17,5], (17, 6): recomendacao[17,6], (17, 7): recomendacao[17,7], (18, 0): recomendacao[18,0], (18, 1): recomendacao[18,1], (18, 2): recomendacao[18,2], (18, 3): recomendacao[18,3], (18, 4): recomendacao[18,4], (18, 5): recomendacao[18,5], (18, 6): recomendacao[18,6], (18, 7): recomendacao[18,7], (19, 0): recomendacao[19,0], (19, 1): recomendacao[19,1], (19, 2): recomendacao[19,2], (19, 3): recomendacao[19,3], (19, 4): recomendacao[19,4], (19, 5): recomendacao[19,5], (19, 6): recomendacao[19,6], (19, 7): recomendacao[19,7]}\n"
          ],
          "name": "stdout"
        },
        {
          "output_type": "execute_result",
          "data": {
            "text/plain": [
              "<ortools.linear_solver.pywraplp.Constraint; proxy of <Swig Object of type 'operations_research::MPConstraint *' at 0x7ffa843ec240> >"
            ]
          },
          "metadata": {
            "tags": []
          },
          "execution_count": 66
        }
      ]
    },
    {
      "cell_type": "markdown",
      "metadata": {
        "id": "OxizA37A_AIc",
        "colab_type": "text"
      },
      "source": [
        "# Executando o modelo"
      ]
    },
    {
      "cell_type": "code",
      "metadata": {
        "id": "M_mHSjiQ_Eoc",
        "colab_type": "code",
        "outputId": "0b4762e6-35b7-4076-cbe4-fce8b2f218b8",
        "colab": {
          "base_uri": "https://localhost:8080/",
          "height": 90
        }
      },
      "source": [
        "#Executando o modelo\n",
        "print('Número de restrições: ',modelo_recomendacao_estoque.NumConstraints())\n",
        "print('Número de variáveis: ',modelo_recomendacao_estoque.NumVariables())\n",
        "\n",
        "modelo_recomendacao_estoque.Solve()\n",
        "\n",
        "print('Tempo: ', modelo_recomendacao_estoque.WallTime(), 'ms')\n",
        "print('Iterações: ', modelo_recomendacao_estoque.iterations())"
      ],
      "execution_count": 0,
      "outputs": [
        {
          "output_type": "stream",
          "text": [
            "Número de restrições:  29\n",
            "Número de variáveis:  160\n",
            "Tempo:  44 ms\n",
            "Iterações:  0\n"
          ],
          "name": "stdout"
        }
      ]
    },
    {
      "cell_type": "markdown",
      "metadata": {
        "id": "-HgxR6gQ_KVl",
        "colab_type": "text"
      },
      "source": [
        "# Avaliando os resultados"
      ]
    },
    {
      "cell_type": "code",
      "metadata": {
        "id": "dA9v8LVj_LkZ",
        "colab_type": "code",
        "outputId": "0fefbcce-477d-4297-fb24-a8775a0ac95d",
        "colab": {
          "base_uri": "https://localhost:8080/",
          "height": 513
        }
      },
      "source": [
        "print('Score total máximo da recomendação: ', round(modelo_recomendacao_estoque.Objective().Value(),2))\n",
        "\n",
        "total_produtos_recomendados = np.zeros(numero_produtos)\n",
        "\n",
        "\n",
        "for i in range(numero_clientes):\n",
        "    for j in range(numero_produtos):\n",
        "        if recomendacao[i,j].SolutionValue() > 0:\n",
        "            total_produtos_recomendados[j] += 1\n",
        "            print('Cliente %i: recebeu a recomendação do produto: %i' % (i+1,j+1))\n",
        "\n",
        "print()\n",
        "print('Produtos recomendados: ',total_produtos_recomendados.astype(int))\n",
        "print('Total produtos recomendados:',np.sum(total_produtos_recomendados.astype(int)))\n",
        "print()\n",
        "print('Limites do Estoque:             ',Limites_estoque)\n",
        "print('Total limite:',np.sum(Limites_estoque))"
      ],
      "execution_count": 0,
      "outputs": [
        {
          "output_type": "stream",
          "text": [
            "Score total máximo da recomendação:  234.0\n",
            "Cliente 1: recebeu a recomendação do produto: 5\n",
            "Cliente 2: recebeu a recomendação do produto: 5\n",
            "Cliente 3: recebeu a recomendação do produto: 5\n",
            "Cliente 4: recebeu a recomendação do produto: 6\n",
            "Cliente 5: recebeu a recomendação do produto: 1\n",
            "Cliente 6: recebeu a recomendação do produto: 2\n",
            "Cliente 7: recebeu a recomendação do produto: 5\n",
            "Cliente 8: recebeu a recomendação do produto: 7\n",
            "Cliente 9: recebeu a recomendação do produto: 3\n",
            "Cliente 10: recebeu a recomendação do produto: 8\n",
            "Cliente 11: recebeu a recomendação do produto: 6\n",
            "Cliente 12: recebeu a recomendação do produto: 8\n",
            "Cliente 13: recebeu a recomendação do produto: 8\n",
            "Cliente 14: recebeu a recomendação do produto: 1\n",
            "Cliente 15: recebeu a recomendação do produto: 7\n",
            "Cliente 16: recebeu a recomendação do produto: 8\n",
            "Cliente 17: recebeu a recomendação do produto: 6\n",
            "Cliente 18: recebeu a recomendação do produto: 3\n",
            "Cliente 19: recebeu a recomendação do produto: 5\n",
            "Cliente 20: recebeu a recomendação do produto: 3\n",
            "\n",
            "Produtos recomendados:  [2 1 3 0 5 3 2 4]\n",
            "Total produtos recomendados: 20\n",
            "\n",
            "Limites do Estoque:              [ 2  1  3  0 10  4  2  4]\n",
            "Total limite: 26\n"
          ],
          "name": "stdout"
        }
      ]
    }
  ]
}
