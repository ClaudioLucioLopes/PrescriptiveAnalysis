{
  "nbformat": 4,
  "nbformat_minor": 0,
  "metadata": {
    "colab": {
      "name": "3.0 - Projeto de 757 Mobility Startup - Caso mais real V01",
      "provenance": [],
      "collapsed_sections": [],
      "toc_visible": true,
      "include_colab_link": true
    },
    "kernelspec": {
      "name": "python3",
      "display_name": "Python 3"
    }
  },
  "cells": [
    {
      "cell_type": "markdown",
      "metadata": {
        "id": "view-in-github",
        "colab_type": "text"
      },
      "source": [
        "<a href=\"https://colab.research.google.com/github/ClaudioLucioLopes/PrescriptiveAnalysis/blob/master/3_0_Projeto_de_757_Mobility_Startup_Caso_mais_real_V01.ipynb\" target=\"_parent\"><img src=\"https://colab.research.google.com/assets/colab-badge.svg\" alt=\"Open In Colab\"/></a>"
      ]
    },
    {
      "cell_type": "markdown",
      "metadata": {
        "id": "MHLu-6DMzNcy",
        "colab_type": "text"
      },
      "source": [
        "# Caso da Projeto 757 Mobility Startup - Caso mais real\n"
      ]
    },
    {
      "cell_type": "markdown",
      "metadata": {
        "id": "I6bNI1t0zViu",
        "colab_type": "text"
      },
      "source": [
        "# Instalação e módulos necessários"
      ]
    },
    {
      "cell_type": "code",
      "metadata": {
        "id": "V0g4ZmPEzZut",
        "colab_type": "code",
        "outputId": "f8f3d9f3-ef19-4710-a0e4-d62efab30a32",
        "colab": {
          "base_uri": "https://localhost:8080/",
          "height": 90
        }
      },
      "source": [
        "!pip install ortools\n",
        "from ortools.linear_solver import pywraplp\n",
        "import numpy as np\n"
      ],
      "execution_count": 0,
      "outputs": [
        {
          "output_type": "stream",
          "text": [
            "Requirement already satisfied: ortools in /usr/local/lib/python3.6/dist-packages (7.4.7247)\n",
            "Requirement already satisfied: protobuf>=3.10.0 in /usr/local/lib/python3.6/dist-packages (from ortools) (3.10.0)\n",
            "Requirement already satisfied: six>=1.10 in /usr/local/lib/python3.6/dist-packages (from ortools) (1.12.0)\n",
            "Requirement already satisfied: setuptools in /usr/local/lib/python3.6/dist-packages (from protobuf>=3.10.0->ortools) (41.6.0)\n"
          ],
          "name": "stdout"
        }
      ]
    },
    {
      "cell_type": "markdown",
      "metadata": {
        "id": "qPBWg0iazdhW",
        "colab_type": "text"
      },
      "source": [
        "# Organizando os dados"
      ]
    },
    {
      "cell_type": "code",
      "metadata": {
        "id": "H36h3rew1x_M",
        "colab_type": "code",
        "outputId": "ea4b0d73-d793-4fe2-d100-58cc5bd89155",
        "colab": {
          "base_uri": "https://localhost:8080/",
          "height": 182
        }
      },
      "source": [
        "\n",
        "\n",
        "#Tempo calculado a partir da ultima atualização de tráfego e posição dos motoristas\n",
        "#Geramos tempos aleatórios, mas usamos uma baseline de 30 para verificarmos a solução\n",
        "Tempo_Previsto =  np.round(np.random.rand(300,200)*100+30,0)\n",
        "\n",
        "\n",
        "#Número de clientes que solicitaram o serviço no bairro naquele momento\n",
        "numero_clientes = Tempo_Previsto.shape[0]\n",
        "numero_motoristas = Tempo_Previsto.shape[1]\n",
        "print('Número de clientes: ', numero_clientes)\n",
        "print('Número de motoristas: ', numero_motoristas)\n",
        "print (Tempo_Previsto)\n"
      ],
      "execution_count": 0,
      "outputs": [
        {
          "output_type": "stream",
          "text": [
            "Número de clientes:  300\n",
            "Número de motoristas:  200\n",
            "[[119. 111.  45. ...  60.  76. 112.]\n",
            " [ 72.  78. 101. ... 126. 129. 116.]\n",
            " [ 97.  59.  61. ... 102. 126.  32.]\n",
            " ...\n",
            " [129. 123. 121. ...  32. 113. 114.]\n",
            " [127.  91.  89. ...  92. 121.  60.]\n",
            " [ 78.  48.  96. ...  52. 103. 112.]]\n"
          ],
          "name": "stdout"
        }
      ]
    },
    {
      "cell_type": "markdown",
      "metadata": {
        "id": "uN6puZWr30wZ",
        "colab_type": "text"
      },
      "source": [
        "# Criando o modelo"
      ]
    },
    {
      "cell_type": "code",
      "metadata": {
        "id": "OupoxLb2392G",
        "colab_type": "code",
        "colab": {}
      },
      "source": [
        "# Criando o modelo de atendimento motoristas e clientes\n",
        "modelo_atendimento = pywraplp.Solver('Modelo de atendimento',pywraplp.Solver.CBC_MIXED_INTEGER_PROGRAMMING)\n",
        "\n",
        "\n",
        "#Criando as variáveis de decisão\n",
        "atendimento = {}\n",
        "\n",
        "for i in range(numero_clientes):\n",
        "    for j in range(numero_motoristas):\n",
        "        atendimento[i, j] = modelo_atendimento.BoolVar('atendimento[%i,%i]' % (i, j))\n",
        "\n",
        "#Criando a nossa função objetivo e atribuindo a minimizaçãão\n",
        "modelo_atendimento.Minimize(modelo_atendimento.Sum(Tempo_Previsto[i,j] * atendimento[i,j] for i in range(numero_clientes) for j in range(numero_motoristas)))\n",
        "\n",
        "\n",
        "#Restrições para os atendimentos dos clientes e dos motoristas\n",
        "\n",
        "\n",
        "# Cada cliente deve ser atendido por apenas 1 motorista .\n",
        "if numero_motoristas < numero_clientes:\n",
        "    for i in range(numero_clientes):\n",
        "        modelo_atendimento.Add(modelo_atendimento.Sum([atendimento[i, j] for j in range(numero_motoristas)]) <= 1)\n",
        "else:\n",
        "    for i in range(numero_clientes):\n",
        "        modelo_atendimento.Add(modelo_atendimento.Sum([atendimento[i, j] for j in range(numero_motoristas)]) == 1)\n",
        "    \n",
        "\n",
        "# Se o número de clientes for maior que o número de motoristas vamos garantir que os atendimentos mais rápidos aconteçam.\n",
        "if numero_motoristas < numero_clientes:\n",
        "    modelo_atendimento.Add(modelo_atendimento.Sum([atendimento[i, j] for i in range(numero_clientes) for j in range(numero_motoristas)]) >= numero_motoristas)\n",
        "\n",
        "# Cada motorista deve atender no máximo 1 pessoa naquele instante de tempo .\n",
        "for j in range(numero_motoristas):\n",
        "    modelo_atendimento.Add(modelo_atendimento.Sum([atendimento[i, j] for i in range(numero_clientes)]) <= 1)\n",
        "\n",
        "\n",
        "\n"
      ],
      "execution_count": 0,
      "outputs": []
    },
    {
      "cell_type": "markdown",
      "metadata": {
        "id": "OxizA37A_AIc",
        "colab_type": "text"
      },
      "source": [
        "# Executando o modelo"
      ]
    },
    {
      "cell_type": "code",
      "metadata": {
        "id": "M_mHSjiQ_Eoc",
        "colab_type": "code",
        "outputId": "5b209e18-3261-427a-938d-e17b60d9f565",
        "colab": {
          "base_uri": "https://localhost:8080/",
          "height": 90
        }
      },
      "source": [
        "#Executando o modelo\n",
        "\n",
        "\n",
        "print('Número de restrições: ',modelo_atendimento.NumConstraints())\n",
        "print('Número de variáveis: ',modelo_atendimento.NumVariables())\n",
        "modelo_atendimento.EnableOutput()\n",
        "modelo_atendimento.Solve()\n",
        "\n",
        "print('Tempo: ', modelo_atendimento.WallTime(), 'ms')\n",
        "print('Iterações: ', modelo_atendimento.iterations())"
      ],
      "execution_count": 0,
      "outputs": [
        {
          "output_type": "stream",
          "text": [
            "Número de restrições:  501\n",
            "Número de variáveis:  60000\n",
            "Tempo:  3406 ms\n",
            "Iterações:  0\n"
          ],
          "name": "stdout"
        }
      ]
    },
    {
      "cell_type": "markdown",
      "metadata": {
        "id": "-HgxR6gQ_KVl",
        "colab_type": "text"
      },
      "source": [
        "# Avaliando os resultados"
      ]
    },
    {
      "cell_type": "code",
      "metadata": {
        "id": "dA9v8LVj_LkZ",
        "colab_type": "code",
        "outputId": "b17e588e-2f5f-47bd-de2d-42fa97a986f0",
        "colab": {
          "base_uri": "https://localhost:8080/",
          "height": 1000
        }
      },
      "source": [
        "print('Tempo total para os atendimentos: ', round(modelo_atendimento.Objective().Value(),2))\n",
        "\n",
        "print()\n",
        "for i in range(numero_clientes):\n",
        "    for j in range(numero_motoristas):\n",
        "        #print(atendimento[i, j].solution_value() )\n",
        "        if atendimento[i, j].solution_value() > 0:\n",
        "            print('Cliente %d será atendido pelo motorista %d.  Tempo previsto = %d' % (i+1,j+1,Tempo_Previsto[i,j]))\n",
        "print()\n",
        "\n"
      ],
      "execution_count": 0,
      "outputs": [
        {
          "output_type": "stream",
          "text": [
            "Tempo total para os atendimentos:  6061.0\n",
            "\n",
            "Cliente 2 será atendido pelo motorista 137.  Tempo previsto = 30\n",
            "Cliente 3 será atendido pelo motorista 37.  Tempo previsto = 31\n",
            "Cliente 5 será atendido pelo motorista 134.  Tempo previsto = 30\n",
            "Cliente 6 será atendido pelo motorista 88.  Tempo previsto = 31\n",
            "Cliente 7 será atendido pelo motorista 132.  Tempo previsto = 31\n",
            "Cliente 8 será atendido pelo motorista 145.  Tempo previsto = 30\n",
            "Cliente 10 será atendido pelo motorista 167.  Tempo previsto = 30\n",
            "Cliente 11 será atendido pelo motorista 23.  Tempo previsto = 30\n",
            "Cliente 12 será atendido pelo motorista 22.  Tempo previsto = 31\n",
            "Cliente 15 será atendido pelo motorista 74.  Tempo previsto = 30\n",
            "Cliente 16 será atendido pelo motorista 124.  Tempo previsto = 30\n",
            "Cliente 17 será atendido pelo motorista 156.  Tempo previsto = 30\n",
            "Cliente 18 será atendido pelo motorista 122.  Tempo previsto = 30\n",
            "Cliente 19 será atendido pelo motorista 45.  Tempo previsto = 30\n",
            "Cliente 21 será atendido pelo motorista 7.  Tempo previsto = 31\n",
            "Cliente 22 será atendido pelo motorista 189.  Tempo previsto = 30\n",
            "Cliente 23 será atendido pelo motorista 32.  Tempo previsto = 30\n",
            "Cliente 24 será atendido pelo motorista 29.  Tempo previsto = 30\n",
            "Cliente 25 será atendido pelo motorista 184.  Tempo previsto = 30\n",
            "Cliente 26 será atendido pelo motorista 151.  Tempo previsto = 31\n",
            "Cliente 28 será atendido pelo motorista 86.  Tempo previsto = 31\n",
            "Cliente 29 será atendido pelo motorista 141.  Tempo previsto = 30\n",
            "Cliente 30 será atendido pelo motorista 112.  Tempo previsto = 31\n",
            "Cliente 31 será atendido pelo motorista 99.  Tempo previsto = 30\n",
            "Cliente 32 será atendido pelo motorista 85.  Tempo previsto = 30\n",
            "Cliente 36 será atendido pelo motorista 163.  Tempo previsto = 30\n",
            "Cliente 38 será atendido pelo motorista 90.  Tempo previsto = 30\n",
            "Cliente 39 será atendido pelo motorista 67.  Tempo previsto = 30\n",
            "Cliente 41 será atendido pelo motorista 50.  Tempo previsto = 30\n",
            "Cliente 43 será atendido pelo motorista 52.  Tempo previsto = 30\n",
            "Cliente 46 será atendido pelo motorista 160.  Tempo previsto = 31\n",
            "Cliente 47 será atendido pelo motorista 143.  Tempo previsto = 30\n",
            "Cliente 49 será atendido pelo motorista 165.  Tempo previsto = 30\n",
            "Cliente 50 será atendido pelo motorista 123.  Tempo previsto = 30\n",
            "Cliente 52 será atendido pelo motorista 135.  Tempo previsto = 30\n",
            "Cliente 53 será atendido pelo motorista 131.  Tempo previsto = 30\n",
            "Cliente 54 será atendido pelo motorista 26.  Tempo previsto = 31\n",
            "Cliente 55 será atendido pelo motorista 13.  Tempo previsto = 30\n",
            "Cliente 56 será atendido pelo motorista 93.  Tempo previsto = 31\n",
            "Cliente 58 será atendido pelo motorista 17.  Tempo previsto = 30\n",
            "Cliente 62 será atendido pelo motorista 178.  Tempo previsto = 31\n",
            "Cliente 63 será atendido pelo motorista 57.  Tempo previsto = 30\n",
            "Cliente 64 será atendido pelo motorista 10.  Tempo previsto = 31\n",
            "Cliente 68 será atendido pelo motorista 182.  Tempo previsto = 31\n",
            "Cliente 69 será atendido pelo motorista 14.  Tempo previsto = 30\n",
            "Cliente 70 será atendido pelo motorista 68.  Tempo previsto = 30\n",
            "Cliente 71 será atendido pelo motorista 28.  Tempo previsto = 31\n",
            "Cliente 73 será atendido pelo motorista 106.  Tempo previsto = 30\n",
            "Cliente 74 será atendido pelo motorista 125.  Tempo previsto = 31\n",
            "Cliente 76 será atendido pelo motorista 139.  Tempo previsto = 30\n",
            "Cliente 77 será atendido pelo motorista 47.  Tempo previsto = 33\n",
            "Cliente 78 será atendido pelo motorista 66.  Tempo previsto = 31\n",
            "Cliente 79 será atendido pelo motorista 162.  Tempo previsto = 30\n",
            "Cliente 80 será atendido pelo motorista 102.  Tempo previsto = 30\n",
            "Cliente 82 será atendido pelo motorista 105.  Tempo previsto = 30\n",
            "Cliente 83 será atendido pelo motorista 72.  Tempo previsto = 31\n",
            "Cliente 84 será atendido pelo motorista 115.  Tempo previsto = 30\n",
            "Cliente 85 será atendido pelo motorista 82.  Tempo previsto = 30\n",
            "Cliente 87 será atendido pelo motorista 62.  Tempo previsto = 30\n",
            "Cliente 88 será atendido pelo motorista 171.  Tempo previsto = 31\n",
            "Cliente 89 será atendido pelo motorista 15.  Tempo previsto = 30\n",
            "Cliente 90 será atendido pelo motorista 39.  Tempo previsto = 30\n",
            "Cliente 93 será atendido pelo motorista 166.  Tempo previsto = 30\n",
            "Cliente 94 será atendido pelo motorista 43.  Tempo previsto = 31\n",
            "Cliente 96 será atendido pelo motorista 53.  Tempo previsto = 30\n",
            "Cliente 97 será atendido pelo motorista 193.  Tempo previsto = 30\n",
            "Cliente 98 será atendido pelo motorista 179.  Tempo previsto = 30\n",
            "Cliente 100 será atendido pelo motorista 30.  Tempo previsto = 30\n",
            "Cliente 101 será atendido pelo motorista 190.  Tempo previsto = 30\n",
            "Cliente 102 será atendido pelo motorista 169.  Tempo previsto = 31\n",
            "Cliente 103 será atendido pelo motorista 59.  Tempo previsto = 30\n",
            "Cliente 106 será atendido pelo motorista 73.  Tempo previsto = 30\n",
            "Cliente 108 será atendido pelo motorista 173.  Tempo previsto = 30\n",
            "Cliente 110 será atendido pelo motorista 174.  Tempo previsto = 30\n",
            "Cliente 111 será atendido pelo motorista 183.  Tempo previsto = 30\n",
            "Cliente 114 será atendido pelo motorista 61.  Tempo previsto = 30\n",
            "Cliente 116 será atendido pelo motorista 181.  Tempo previsto = 31\n",
            "Cliente 118 será atendido pelo motorista 172.  Tempo previsto = 31\n",
            "Cliente 121 será atendido pelo motorista 157.  Tempo previsto = 30\n",
            "Cliente 122 será atendido pelo motorista 176.  Tempo previsto = 31\n",
            "Cliente 123 será atendido pelo motorista 197.  Tempo previsto = 30\n",
            "Cliente 124 será atendido pelo motorista 187.  Tempo previsto = 30\n",
            "Cliente 125 será atendido pelo motorista 5.  Tempo previsto = 30\n",
            "Cliente 127 será atendido pelo motorista 148.  Tempo previsto = 30\n",
            "Cliente 128 será atendido pelo motorista 110.  Tempo previsto = 30\n",
            "Cliente 132 será atendido pelo motorista 164.  Tempo previsto = 30\n",
            "Cliente 133 será atendido pelo motorista 76.  Tempo previsto = 30\n",
            "Cliente 134 será atendido pelo motorista 79.  Tempo previsto = 30\n",
            "Cliente 135 será atendido pelo motorista 60.  Tempo previsto = 31\n",
            "Cliente 137 será atendido pelo motorista 196.  Tempo previsto = 30\n",
            "Cliente 138 será atendido pelo motorista 2.  Tempo previsto = 30\n",
            "Cliente 140 será atendido pelo motorista 35.  Tempo previsto = 30\n",
            "Cliente 142 será atendido pelo motorista 31.  Tempo previsto = 30\n",
            "Cliente 145 será atendido pelo motorista 100.  Tempo previsto = 30\n",
            "Cliente 147 será atendido pelo motorista 154.  Tempo previsto = 30\n",
            "Cliente 149 será atendido pelo motorista 40.  Tempo previsto = 30\n",
            "Cliente 150 será atendido pelo motorista 128.  Tempo previsto = 30\n",
            "Cliente 151 será atendido pelo motorista 96.  Tempo previsto = 30\n",
            "Cliente 152 será atendido pelo motorista 155.  Tempo previsto = 30\n",
            "Cliente 153 será atendido pelo motorista 55.  Tempo previsto = 30\n",
            "Cliente 154 será atendido pelo motorista 186.  Tempo previsto = 30\n",
            "Cliente 156 será atendido pelo motorista 194.  Tempo previsto = 30\n",
            "Cliente 158 será atendido pelo motorista 138.  Tempo previsto = 30\n",
            "Cliente 159 será atendido pelo motorista 130.  Tempo previsto = 30\n",
            "Cliente 161 será atendido pelo motorista 103.  Tempo previsto = 30\n",
            "Cliente 163 será atendido pelo motorista 140.  Tempo previsto = 31\n",
            "Cliente 164 será atendido pelo motorista 9.  Tempo previsto = 30\n",
            "Cliente 166 será atendido pelo motorista 101.  Tempo previsto = 30\n",
            "Cliente 167 será atendido pelo motorista 49.  Tempo previsto = 31\n",
            "Cliente 168 será atendido pelo motorista 129.  Tempo previsto = 31\n",
            "Cliente 169 será atendido pelo motorista 126.  Tempo previsto = 31\n",
            "Cliente 171 será atendido pelo motorista 142.  Tempo previsto = 31\n",
            "Cliente 172 será atendido pelo motorista 144.  Tempo previsto = 30\n",
            "Cliente 173 será atendido pelo motorista 188.  Tempo previsto = 30\n",
            "Cliente 174 será atendido pelo motorista 114.  Tempo previsto = 31\n",
            "Cliente 176 será atendido pelo motorista 109.  Tempo previsto = 30\n",
            "Cliente 178 será atendido pelo motorista 71.  Tempo previsto = 31\n",
            "Cliente 180 será atendido pelo motorista 24.  Tempo previsto = 30\n",
            "Cliente 182 será atendido pelo motorista 6.  Tempo previsto = 32\n",
            "Cliente 183 será atendido pelo motorista 36.  Tempo previsto = 30\n",
            "Cliente 184 será atendido pelo motorista 119.  Tempo previsto = 30\n",
            "Cliente 185 será atendido pelo motorista 81.  Tempo previsto = 30\n",
            "Cliente 186 será atendido pelo motorista 20.  Tempo previsto = 30\n",
            "Cliente 188 será atendido pelo motorista 180.  Tempo previsto = 30\n",
            "Cliente 190 será atendido pelo motorista 51.  Tempo previsto = 30\n",
            "Cliente 191 será atendido pelo motorista 200.  Tempo previsto = 30\n",
            "Cliente 192 será atendido pelo motorista 175.  Tempo previsto = 30\n",
            "Cliente 193 será atendido pelo motorista 192.  Tempo previsto = 30\n",
            "Cliente 194 será atendido pelo motorista 177.  Tempo previsto = 30\n",
            "Cliente 195 será atendido pelo motorista 136.  Tempo previsto = 30\n",
            "Cliente 197 será atendido pelo motorista 147.  Tempo previsto = 30\n",
            "Cliente 198 será atendido pelo motorista 34.  Tempo previsto = 31\n",
            "Cliente 200 será atendido pelo motorista 118.  Tempo previsto = 31\n",
            "Cliente 201 será atendido pelo motorista 150.  Tempo previsto = 31\n",
            "Cliente 202 será atendido pelo motorista 1.  Tempo previsto = 30\n",
            "Cliente 203 será atendido pelo motorista 127.  Tempo previsto = 30\n",
            "Cliente 207 será atendido pelo motorista 12.  Tempo previsto = 30\n",
            "Cliente 210 será atendido pelo motorista 77.  Tempo previsto = 31\n",
            "Cliente 211 será atendido pelo motorista 120.  Tempo previsto = 30\n",
            "Cliente 212 será atendido pelo motorista 92.  Tempo previsto = 30\n",
            "Cliente 213 será atendido pelo motorista 65.  Tempo previsto = 30\n",
            "Cliente 215 será atendido pelo motorista 158.  Tempo previsto = 30\n",
            "Cliente 218 será atendido pelo motorista 108.  Tempo previsto = 30\n",
            "Cliente 219 será atendido pelo motorista 104.  Tempo previsto = 30\n",
            "Cliente 222 será atendido pelo motorista 117.  Tempo previsto = 31\n",
            "Cliente 223 será atendido pelo motorista 133.  Tempo previsto = 30\n",
            "Cliente 225 será atendido pelo motorista 87.  Tempo previsto = 30\n",
            "Cliente 226 será atendido pelo motorista 91.  Tempo previsto = 30\n",
            "Cliente 227 será atendido pelo motorista 44.  Tempo previsto = 31\n",
            "Cliente 228 será atendido pelo motorista 11.  Tempo previsto = 30\n",
            "Cliente 230 será atendido pelo motorista 195.  Tempo previsto = 30\n",
            "Cliente 232 será atendido pelo motorista 3.  Tempo previsto = 30\n",
            "Cliente 233 será atendido pelo motorista 84.  Tempo previsto = 30\n",
            "Cliente 234 será atendido pelo motorista 8.  Tempo previsto = 31\n",
            "Cliente 236 será atendido pelo motorista 58.  Tempo previsto = 31\n",
            "Cliente 237 será atendido pelo motorista 95.  Tempo previsto = 30\n",
            "Cliente 238 será atendido pelo motorista 69.  Tempo previsto = 31\n",
            "Cliente 239 será atendido pelo motorista 98.  Tempo previsto = 30\n",
            "Cliente 240 será atendido pelo motorista 116.  Tempo previsto = 30\n",
            "Cliente 243 será atendido pelo motorista 89.  Tempo previsto = 30\n",
            "Cliente 245 será atendido pelo motorista 170.  Tempo previsto = 30\n",
            "Cliente 247 será atendido pelo motorista 111.  Tempo previsto = 30\n",
            "Cliente 248 será atendido pelo motorista 75.  Tempo previsto = 30\n",
            "Cliente 249 será atendido pelo motorista 54.  Tempo previsto = 30\n",
            "Cliente 251 será atendido pelo motorista 27.  Tempo previsto = 30\n",
            "Cliente 253 será atendido pelo motorista 185.  Tempo previsto = 31\n",
            "Cliente 254 será atendido pelo motorista 70.  Tempo previsto = 30\n",
            "Cliente 255 será atendido pelo motorista 80.  Tempo previsto = 30\n",
            "Cliente 258 será atendido pelo motorista 168.  Tempo previsto = 30\n",
            "Cliente 259 será atendido pelo motorista 152.  Tempo previsto = 30\n",
            "Cliente 260 será atendido pelo motorista 64.  Tempo previsto = 31\n",
            "Cliente 261 será atendido pelo motorista 149.  Tempo previsto = 31\n",
            "Cliente 262 será atendido pelo motorista 16.  Tempo previsto = 31\n",
            "Cliente 263 será atendido pelo motorista 199.  Tempo previsto = 31\n",
            "Cliente 264 será atendido pelo motorista 107.  Tempo previsto = 30\n",
            "Cliente 266 será atendido pelo motorista 41.  Tempo previsto = 32\n",
            "Cliente 267 será atendido pelo motorista 161.  Tempo previsto = 32\n",
            "Cliente 269 será atendido pelo motorista 78.  Tempo previsto = 31\n",
            "Cliente 270 será atendido pelo motorista 18.  Tempo previsto = 30\n",
            "Cliente 271 será atendido pelo motorista 4.  Tempo previsto = 30\n",
            "Cliente 272 será atendido pelo motorista 113.  Tempo previsto = 30\n",
            "Cliente 273 será atendido pelo motorista 191.  Tempo previsto = 30\n",
            "Cliente 274 será atendido pelo motorista 121.  Tempo previsto = 30\n",
            "Cliente 275 será atendido pelo motorista 19.  Tempo previsto = 30\n",
            "Cliente 276 será atendido pelo motorista 48.  Tempo previsto = 30\n",
            "Cliente 277 será atendido pelo motorista 153.  Tempo previsto = 30\n",
            "Cliente 278 será atendido pelo motorista 46.  Tempo previsto = 30\n",
            "Cliente 279 será atendido pelo motorista 42.  Tempo previsto = 30\n",
            "Cliente 280 será atendido pelo motorista 63.  Tempo previsto = 30\n",
            "Cliente 281 será atendido pelo motorista 25.  Tempo previsto = 30\n",
            "Cliente 283 será atendido pelo motorista 159.  Tempo previsto = 30\n",
            "Cliente 284 será atendido pelo motorista 146.  Tempo previsto = 31\n",
            "Cliente 285 será atendido pelo motorista 38.  Tempo previsto = 30\n",
            "Cliente 286 será atendido pelo motorista 198.  Tempo previsto = 30\n",
            "Cliente 287 será atendido pelo motorista 56.  Tempo previsto = 31\n",
            "Cliente 288 será atendido pelo motorista 83.  Tempo previsto = 30\n",
            "Cliente 289 será atendido pelo motorista 33.  Tempo previsto = 31\n",
            "Cliente 294 será atendido pelo motorista 94.  Tempo previsto = 30\n",
            "Cliente 295 será atendido pelo motorista 21.  Tempo previsto = 31\n",
            "Cliente 299 será atendido pelo motorista 97.  Tempo previsto = 31\n",
            "\n"
          ],
          "name": "stdout"
        }
      ]
    }
  ]
}