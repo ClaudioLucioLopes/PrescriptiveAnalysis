{
  "nbformat": 4,
  "nbformat_minor": 0,
  "metadata": {
    "colab": {
      "name": "3.0 - Projeto de 757 Mobility Startup V01",
      "provenance": [],
      "collapsed_sections": [],
      "toc_visible": true,
      "include_colab_link": true
    },
    "kernelspec": {
      "name": "python3",
      "display_name": "Python 3"
    }
  },
  "cells": [
    {
      "cell_type": "markdown",
      "metadata": {
        "id": "view-in-github",
        "colab_type": "text"
      },
      "source": [
        "<a href=\"https://colab.research.google.com/github/ClaudioLucioLopes/PrescriptiveAnalysis/blob/master/3_0_Projeto_de_757_Mobility_Startup_V01.ipynb\" target=\"_parent\"><img src=\"https://colab.research.google.com/assets/colab-badge.svg\" alt=\"Open In Colab\"/></a>"
      ]
    },
    {
      "cell_type": "markdown",
      "metadata": {
        "id": "MHLu-6DMzNcy",
        "colab_type": "text"
      },
      "source": [
        "# Caso da Projeto 757 Mobility Startup"
      ]
    },
    {
      "cell_type": "markdown",
      "metadata": {
        "id": "I6bNI1t0zViu",
        "colab_type": "text"
      },
      "source": [
        "# Instalação e módulos necessários"
      ]
    },
    {
      "cell_type": "code",
      "metadata": {
        "id": "V0g4ZmPEzZut",
        "colab_type": "code",
        "outputId": "00064af2-ce7c-4295-ac69-eee55f29c3d2",
        "colab": {
          "base_uri": "https://localhost:8080/",
          "height": 184
        }
      },
      "source": [
        "!pip install ortools\n",
        "from ortools.linear_solver import pywraplp\n",
        "import numpy as np\n"
      ],
      "execution_count": 0,
      "outputs": [
        {
          "output_type": "stream",
          "text": [
            "Collecting ortools\n",
            "\u001b[?25l  Downloading https://files.pythonhosted.org/packages/b2/c2/81a18b1ee4e9c8401fa2c9bc6fcd1b59b1c30ff7a1b214aff84d718d95c5/ortools-7.4.7247-cp36-cp36m-manylinux1_x86_64.whl (27.7MB)\n",
            "\u001b[K     |████████████████████████████████| 27.7MB 84kB/s \n",
            "\u001b[?25hRequirement already satisfied: six>=1.10 in /usr/local/lib/python3.6/dist-packages (from ortools) (1.12.0)\n",
            "Requirement already satisfied: protobuf>=3.10.0 in /usr/local/lib/python3.6/dist-packages (from ortools) (3.10.0)\n",
            "Requirement already satisfied: setuptools in /usr/local/lib/python3.6/dist-packages (from protobuf>=3.10.0->ortools) (41.6.0)\n",
            "Installing collected packages: ortools\n",
            "Successfully installed ortools-7.4.7247\n"
          ],
          "name": "stdout"
        }
      ]
    },
    {
      "cell_type": "markdown",
      "metadata": {
        "id": "qPBWg0iazdhW",
        "colab_type": "text"
      },
      "source": [
        "# Organizando os dados"
      ]
    },
    {
      "cell_type": "code",
      "metadata": {
        "id": "H36h3rew1x_M",
        "colab_type": "code",
        "colab": {}
      },
      "source": [
        "\n",
        "\n",
        "#Tempo calculado a partir da ultima atualização de tráfego e posição dos motorstas\n",
        "Tempo_Previsto = np.array([[90, 76, 75, 70],\n",
        "                           [35, 85, 55, 65],\n",
        "                           [125, 95, 90, 105],\n",
        "                           [45, 110, 95, 115],\n",
        "                           [60, 105, 80, 75],\n",
        "                           [45, 65, 110, 95]])\n",
        "\n",
        "\"\"\"Tempo_Previsto = np.array([[90, 76, 75, 70],\n",
        "                           [35, 85, 55, 65],\n",
        "                           [125, 95, 90, 105],\n",
        "                           [45, 110, 95, 115],\n",
        "                           [60, 105, 80, 75],\n",
        "                           [45, 65, 110, 95]])\n",
        "\"\"\"\n",
        "\n",
        "#Número de clientes que solicitaram o serviço no bairro naquele momento\n",
        "numero_clientes = Tempo_Previsto.shape[0]\n",
        "numero_motoristas = Tempo_Previsto.shape[1]\n",
        "\n"
      ],
      "execution_count": 0,
      "outputs": []
    },
    {
      "cell_type": "markdown",
      "metadata": {
        "id": "uN6puZWr30wZ",
        "colab_type": "text"
      },
      "source": [
        "# Criando o modelo"
      ]
    },
    {
      "cell_type": "code",
      "metadata": {
        "id": "OupoxLb2392G",
        "colab_type": "code",
        "colab": {}
      },
      "source": [
        "# Criando o modelo de atendimento motoristas e clientes\n",
        "modelo_atendimento = pywraplp.Solver('Modelo de atendimento',pywraplp.Solver.CBC_MIXED_INTEGER_PROGRAMMING)\n",
        "\n",
        "\n",
        "#Criando as variáveis de decisão\n",
        "atendimento = {}\n",
        "\n",
        "for i in range(numero_clientes):\n",
        "    for j in range(numero_motoristas):\n",
        "        atendimento[i, j] = modelo_atendimento.BoolVar('atendimento[%i,%i]' % (i, j))\n",
        "\n",
        "#Criando a nossa função objetivo e atribuindo a minimizaçãão\n",
        "modelo_atendimento.Minimize(modelo_atendimento.Sum(Tempo_Previsto[i,j] * atendimento[i,j] for i in range(numero_clientes) for j in range(numero_motoristas)))\n",
        "\n",
        "\n",
        "#Restrições para os atendimentos dos clientes e dos motoristas\n",
        "\n",
        "\n",
        "# Cada cliente deve ser atendido por apenas 1 motorista .\n",
        "if numero_motoristas < numero_clientes:\n",
        "    for i in range(numero_clientes):\n",
        "        modelo_atendimento.Add(modelo_atendimento.Sum([atendimento[i, j] for j in range(numero_motoristas)]) <= 1)\n",
        "else:\n",
        "    for i in range(numero_clientes):\n",
        "        modelo_atendimento.Add(modelo_atendimento.Sum([atendimento[i, j] for j in range(numero_motoristas)]) == 1)\n",
        "    \n",
        "\n",
        "# Se o número de clientes for maior que o número de motoristas vamos garantir que os atendimentos mais rápidos aconteçam.\n",
        "if numero_motoristas < numero_clientes:\n",
        "    modelo_atendimento.Add(modelo_atendimento.Sum([atendimento[i, j] for i in range(numero_clientes) for j in range(numero_motoristas)]) >= numero_motoristas)\n",
        "\n",
        "# Cada motorista deve atender no máximo 1 pessoa naquele instante de tempo .\n",
        "for j in range(numero_motoristas):\n",
        "    modelo_atendimento.Add(modelo_atendimento.Sum([atendimento[i, j] for i in range(numero_clientes)]) <= 1)\n",
        "\n",
        "\n",
        "\n"
      ],
      "execution_count": 0,
      "outputs": []
    },
    {
      "cell_type": "markdown",
      "metadata": {
        "id": "OxizA37A_AIc",
        "colab_type": "text"
      },
      "source": [
        "# Executando o modelo"
      ]
    },
    {
      "cell_type": "code",
      "metadata": {
        "id": "M_mHSjiQ_Eoc",
        "colab_type": "code",
        "outputId": "312c3c7a-838a-4d44-f472-ef435243f268",
        "colab": {
          "base_uri": "https://localhost:8080/",
          "height": 54
        }
      },
      "source": [
        "#Executando o modelo\n",
        "modelo_atendimento.Solve()\n",
        "\n",
        "print('Tempo: ', modelo_atendimento.WallTime(), 'ms')\n",
        "print('Iterações: ', modelo_atendimento.iterations())"
      ],
      "execution_count": 0,
      "outputs": [
        {
          "output_type": "stream",
          "text": [
            "Tempo:  19 ms\n",
            "Iterações:  0\n"
          ],
          "name": "stdout"
        }
      ]
    },
    {
      "cell_type": "markdown",
      "metadata": {
        "id": "-HgxR6gQ_KVl",
        "colab_type": "text"
      },
      "source": [
        "# Avaliando os resultados"
      ]
    },
    {
      "cell_type": "code",
      "metadata": {
        "id": "dA9v8LVj_LkZ",
        "colab_type": "code",
        "outputId": "bf351c05-8ff6-4018-bd84-9436c79de201",
        "colab": {
          "base_uri": "https://localhost:8080/",
          "height": 146
        }
      },
      "source": [
        "print('Tempo total para os atendimentos: ', round(modelo_atendimento.Objective().Value(),2))\n",
        "\n",
        "print()\n",
        "for i in range(numero_clientes):\n",
        "    for j in range(numero_motoristas):\n",
        "        #print(atendimento[i, j].solution_value() )\n",
        "        if atendimento[i, j].solution_value() > 0:\n",
        "            print('Cliente %d será atendido pelo motorista %d.  Tempo previsto = %d' % (i+1,j+1,Tempo_Previsto[i,j]))\n",
        "print()\n",
        "\n"
      ],
      "execution_count": 0,
      "outputs": [
        {
          "output_type": "stream",
          "text": [
            "Tempo total para os atendimentos:  235.0\n",
            "\n",
            "Cliente 1 será atendido pelo motorista 4.  Tempo previsto = 70\n",
            "Cliente 2 será atendido pelo motorista 3.  Tempo previsto = 55\n",
            "Cliente 4 será atendido pelo motorista 1.  Tempo previsto = 45\n",
            "Cliente 6 será atendido pelo motorista 2.  Tempo previsto = 65\n",
            "\n"
          ],
          "name": "stdout"
        }
      ]
    }
  ]
}