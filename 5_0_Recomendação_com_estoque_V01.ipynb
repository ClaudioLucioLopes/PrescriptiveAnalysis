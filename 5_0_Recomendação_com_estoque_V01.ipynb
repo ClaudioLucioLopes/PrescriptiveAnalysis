{
  "nbformat": 4,
  "nbformat_minor": 0,
  "metadata": {
    "colab": {
      "name": "5.0 - Recomendação com estoque V01",
      "provenance": [],
      "toc_visible": true,
      "include_colab_link": true
    },
    "kernelspec": {
      "name": "python3",
      "display_name": "Python 3"
    }
  },
  "cells": [
    {
      "cell_type": "markdown",
      "metadata": {
        "id": "view-in-github",
        "colab_type": "text"
      },
      "source": [
        "<a href=\"https://colab.research.google.com/github/ClaudioLucioLopes/PrescriptiveAnalysis/blob/master/5_0_Recomenda%C3%A7%C3%A3o_com_estoque_V01.ipynb\" target=\"_parent\"><img src=\"https://colab.research.google.com/assets/colab-badge.svg\" alt=\"Open In Colab\"/></a>"
      ]
    },
    {
      "cell_type": "markdown",
      "metadata": {
        "id": "MHLu-6DMzNcy",
        "colab_type": "text"
      },
      "source": [
        "# Algoritmo de Recomendação com limitação do estoque "
      ]
    },
    {
      "cell_type": "markdown",
      "metadata": {
        "id": "I6bNI1t0zViu",
        "colab_type": "text"
      },
      "source": [
        "# Instalação e módulos necessários"
      ]
    },
    {
      "cell_type": "code",
      "metadata": {
        "id": "V0g4ZmPEzZut",
        "colab_type": "code",
        "outputId": "5bd25d6a-a4d8-4833-e9a9-0366eac1f1c3",
        "colab": {
          "base_uri": "https://localhost:8080/",
          "height": 184
        }
      },
      "source": [
        "!pip install ortools\n",
        "from ortools.linear_solver import pywraplp\n",
        "import numpy as np\n"
      ],
      "execution_count": 0,
      "outputs": [
        {
          "output_type": "stream",
          "text": [
            "Collecting ortools\n",
            "\u001b[?25l  Downloading https://files.pythonhosted.org/packages/b2/c2/81a18b1ee4e9c8401fa2c9bc6fcd1b59b1c30ff7a1b214aff84d718d95c5/ortools-7.4.7247-cp36-cp36m-manylinux1_x86_64.whl (27.7MB)\n",
            "\u001b[K     |████████████████████████████████| 27.7MB 88kB/s \n",
            "\u001b[?25hRequirement already satisfied: six>=1.10 in /usr/local/lib/python3.6/dist-packages (from ortools) (1.12.0)\n",
            "Requirement already satisfied: protobuf>=3.10.0 in /usr/local/lib/python3.6/dist-packages (from ortools) (3.10.0)\n",
            "Requirement already satisfied: setuptools in /usr/local/lib/python3.6/dist-packages (from protobuf>=3.10.0->ortools) (41.6.0)\n",
            "Installing collected packages: ortools\n",
            "Successfully installed ortools-7.4.7247\n"
          ],
          "name": "stdout"
        }
      ]
    },
    {
      "cell_type": "markdown",
      "metadata": {
        "id": "qPBWg0iazdhW",
        "colab_type": "text"
      },
      "source": [
        "# Organizando os dados"
      ]
    },
    {
      "cell_type": "code",
      "metadata": {
        "id": "H36h3rew1x_M",
        "colab_type": "code",
        "colab": {}
      },
      "source": [
        "#Matriz dos escore de clientes \n",
        "todos_escores = np.array([ [13,5,10,7,11,1,12,5],\n",
        "                                   [8,7,1,11,11,0,0,1],\n",
        "                                   [4,6,9,8,11,6,7,11],\n",
        "                                   [13,5,11,1,7,10,11,5],\n",
        "                                   [11,9,5,1,6,3,1,3],\n",
        "                                   [9,11,8,14,7,5,6,1],\n",
        "                                   [9,2,5,4,9,0,10,1],\n",
        "                                   [14,2,13,3,10,6,11,10],\n",
        "                                   [6,0,14,5,11,5,1,0],\n",
        "                                   [10,5,0,14,5,9,6,10],       \n",
        "                                   [12,6,11,7,0,13,3,5],\n",
        "                                   [12,7,4,4,13,10,12,14],\n",
        "                                   [9,5,7,1,8,5,9,13],\n",
        "                                   [11,9,5,6,2,1,1,2],\n",
        "                                   [10,1,0,3,13,12,14,7],\n",
        "                                   [3,4,4,0,5,8,1,11],\n",
        "                                   [0,12,2,14,10,14,7,5],\n",
        "                                   [10,12,14,4,4,1,9,11],     \n",
        "                                   [2,6,1,10,11,8,4,4],\n",
        "                                   [11,10,10,6,4,6,5,3]])\n",
        "\n",
        "\n",
        "#Número de clientes e produtos no instante t\n",
        "numero_clientes = todos_escores.shape[0]\n",
        "numero_produtos = todos_escores.shape[1]\n",
        "\n",
        "#Limites do estoque por produto\n",
        "Limites_estoque = np.array([2, 1, 3, 0, 10, 4, 2, 4])\n",
        "#Para simplificar, considere que temos estoque para fazer recomendações para todos os clientes\n",
        "\n"
      ],
      "execution_count": 0,
      "outputs": []
    },
    {
      "cell_type": "markdown",
      "metadata": {
        "id": "uN6puZWr30wZ",
        "colab_type": "text"
      },
      "source": [
        "# Criando o modelo"
      ]
    },
    {
      "cell_type": "code",
      "metadata": {
        "id": "OupoxLb2392G",
        "colab_type": "code",
        "colab": {}
      },
      "source": [
        "# Criando o modelo de investimento\n",
        "modelo_recomendacao_estoque = pywraplp.Solver('Modelo para maximizar a recomendação no estoque',pywraplp.Solver.CBC_MIXED_INTEGER_PROGRAMMING)\n",
        "\n"
      ],
      "execution_count": 0,
      "outputs": []
    },
    {
      "cell_type": "markdown",
      "metadata": {
        "id": "OxizA37A_AIc",
        "colab_type": "text"
      },
      "source": [
        "# Executando o modelo "
      ]
    },
    {
      "cell_type": "code",
      "metadata": {
        "id": "M_mHSjiQ_Eoc",
        "colab_type": "code",
        "colab": {}
      },
      "source": [
        ""
      ],
      "execution_count": 0,
      "outputs": []
    },
    {
      "cell_type": "markdown",
      "metadata": {
        "id": "-HgxR6gQ_KVl",
        "colab_type": "text"
      },
      "source": [
        "# Avaliando os resultados"
      ]
    },
    {
      "cell_type": "code",
      "metadata": {
        "id": "dA9v8LVj_LkZ",
        "colab_type": "code",
        "colab": {}
      },
      "source": [
        ""
      ],
      "execution_count": 0,
      "outputs": []
    }
  ]
}
